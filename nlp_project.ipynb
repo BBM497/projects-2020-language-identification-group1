{
  "nbformat": 4,
  "nbformat_minor": 0,
  "metadata": {
    "colab": {
      "name": "nlp-project.ipynb",
      "provenance": [],
      "collapsed_sections": [],
      "toc_visible": true
    },
    "kernelspec": {
      "name": "python3",
      "display_name": "Python 3"
    },
    "accelerator": "GPU"
  },
  "cells": [
    {
      "cell_type": "code",
      "metadata": {
        "id": "kkXDXk6jRuxq",
        "colab_type": "code",
        "colab": {}
      },
      "source": [
        "import json\n",
        "import pickle\n",
        "import os\n",
        "import pandas as pd\n",
        "import matplotlib.pyplot as plt\n",
        "import seaborn as sn\n",
        "import torch\n",
        "import torch.optim as optim\n",
        "import torch.nn as nn\n",
        "import torch.nn.functional as F\n",
        "from torch.autograd import Variable\n",
        "from torch.utils.data import Dataset, DataLoader\n",
        "from torch.nn.utils.rnn import pack_padded_sequence, pad_packed_sequence\n",
        "from sklearn.model_selection import train_test_split\n",
        "from sklearn.metrics import confusion_matrix, plot_confusion_matrix"
      ],
      "execution_count": null,
      "outputs": []
    },
    {
      "cell_type": "code",
      "metadata": {
        "id": "mFy9VO8TL479",
        "colab_type": "code",
        "colab": {
          "base_uri": "https://localhost:8080/",
          "height": 128
        },
        "outputId": "6a533ed0-0bc5-48b9-b237-d95ce9fb57a3"
      },
      "source": [
        "#### DRIVE'A BAĞLAN, AÇILAN LİNKE TIKLA, ORADAKİ KODU ÇIKAN KUTUCUĞA YAPITŞIR\n",
        "\n",
        "from google.colab import drive\n",
        "drive.mount('/content/drive')"
      ],
      "execution_count": null,
      "outputs": [
        {
          "output_type": "stream",
          "text": [
            "Go to this URL in a browser: https://accounts.google.com/o/oauth2/auth?client_id=947318989803-6bn6qk8qdgf4n4g3pfee6491hc0brc4i.apps.googleusercontent.com&redirect_uri=urn%3aietf%3awg%3aoauth%3a2.0%3aoob&response_type=code&scope=email%20https%3a%2f%2fwww.googleapis.com%2fauth%2fdocs.test%20https%3a%2f%2fwww.googleapis.com%2fauth%2fdrive%20https%3a%2f%2fwww.googleapis.com%2fauth%2fdrive.photos.readonly%20https%3a%2f%2fwww.googleapis.com%2fauth%2fpeopleapi.readonly\n",
            "\n",
            "Enter your authorization code:\n",
            "··········\n",
            "Mounted at /content/drive\n"
          ],
          "name": "stdout"
        }
      ]
    },
    {
      "cell_type": "code",
      "metadata": {
        "id": "fiJFmu4hM7bX",
        "colab_type": "code",
        "colab": {
          "base_uri": "https://localhost:8080/",
          "height": 672
        },
        "outputId": "4555d5a1-f4cf-4211-c08c-f3cd06f0f7c8"
      },
      "source": [
        "#### PATHLERINI UYGUN BİR ŞEKİLDE YAZARAK DATASET VS.'YI UNZIPLE\n",
        "\n",
        "!unzip 'drive/My Drive/NLP-Project/SeqToLang.zip'\n",
        "!unzip 'drive/My Drive/NLP-Project/default_label2id.json.zip'\n",
        "!unzip 'drive/My Drive/NLP-Project/Spanish.txt.zip'\n",
        "!unzip 'drive/My Drive/NLP-Project/English.txt.zip'\n",
        "!unzip 'drive/My Drive/NLP-Project/French.txt.zip'\n",
        "!unzip 'drive/My Drive/NLP-Project/Portuguese.txt.zip'\n",
        "!unzip 'drive/My Drive/NLP-Project/Italian.txt.zip'\n",
        "!unzip 'drive/My Drive/NLP-Project/German.txt.zip'"
      ],
      "execution_count": null,
      "outputs": [
        {
          "output_type": "stream",
          "text": [
            "Archive:  drive/My Drive/NLP-Project/SeqToLang.zip\n",
            "   creating: seqtolang/\n",
            "   creating: seqtolang/checkpoints/\n",
            "  inflating: seqtolang/checkpoints/default_label2id.json  \n",
            "  inflating: seqtolang/checkpoints/default_model.state_dict  \n",
            "  inflating: seqtolang/checkpoints/default_vectorizer.pickle  \n",
            "  inflating: seqtolang/detector.py   \n",
            "  inflating: seqtolang/model.py      \n",
            "  inflating: seqtolang/vectorizer.py  \n",
            "  inflating: seqtolang/__init__.py   \n",
            "   creating: seqtolang/__pycache__/\n",
            "  inflating: seqtolang/__pycache__/detector.cpython-37.pyc  \n",
            "  inflating: seqtolang/__pycache__/model.cpython-37.pyc  \n",
            "  inflating: seqtolang/__pycache__/vectorizer.cpython-37.pyc  \n",
            "  inflating: seqtolang/__pycache__/__init__.cpython-37.pyc  \n",
            "Archive:  drive/My Drive/NLP-Project/default_label2id.json.zip\n",
            "  inflating: default_label2id.json   \n",
            "  inflating: __MACOSX/._default_label2id.json  \n",
            "Archive:  drive/My Drive/NLP-Project/Spanish.txt.zip\n",
            "  inflating: Spanish.txt             \n",
            "  inflating: __MACOSX/._Spanish.txt  \n",
            "Archive:  drive/My Drive/NLP-Project/English.txt.zip\n",
            "  inflating: English.txt             \n",
            "  inflating: __MACOSX/._English.txt  \n",
            "Archive:  drive/My Drive/NLP-Project/French.txt.zip\n",
            "  inflating: French.txt              \n",
            "  inflating: __MACOSX/._French.txt   \n",
            "Archive:  drive/My Drive/NLP-Project/Portuguese.txt.zip\n",
            "  inflating: Portuguese.txt          \n",
            "  inflating: __MACOSX/._Portuguese.txt  \n",
            "Archive:  drive/My Drive/NLP-Project/Italian.txt.zip\n",
            "  inflating: Italian.txt             \n",
            "  inflating: __MACOSX/._Italian.txt  \n",
            "Archive:  drive/My Drive/NLP-Project/German.txt.zip\n",
            "  inflating: German.txt              \n",
            "  inflating: __MACOSX/._German.txt   \n"
          ],
          "name": "stdout"
        }
      ]
    },
    {
      "cell_type": "code",
      "metadata": {
        "id": "BxVmQIURWn2O",
        "colab_type": "code",
        "colab": {}
      },
      "source": [
        "### BURASI VECTORIZER CLASSININ TANIMLANDIĞI YER\n",
        "\n",
        "import re\n",
        "import itertools\n",
        "import numpy as np\n",
        "from collections import Counter\n",
        "\n",
        "TOKENIZER_REGEX = re.compile(r\"[^\\d\\W]+\", re.UNICODE)\n",
        "PAD_INDEX = 0\n",
        "UNK_INDEX = 1\n",
        "CHUNK_SIZE = 60000\n",
        "MIN_NGRAM_FREQ = 2\n",
        "TOKEN_PREFIX = '<'\n",
        "TOKEN_SUFFIX = '>'\n",
        "\n",
        "\n",
        "class SeqToLangVectorizer():\n",
        "    def __init__(self, chars_ngram_range=(2,4), words_tokenizer=None):\n",
        "        self.words_tokenizer = words_tokenizer or _default_tokenizer\n",
        "        self.chars_ngram_range = chars_ngram_range\n",
        "        self.max_words = 0\n",
        "        self.max_ngrams = 0\n",
        "        self.ngram2id = None\n",
        "        self.ngrams_counter = Counter()\n",
        "\n",
        "    def fit(self, texts):\n",
        "        self.fit_tokens_stats(texts)\n",
        "        self.build_ngram2id()\n",
        "        self.ngrams_counter = None\n",
        "        return self\n",
        "\n",
        "    def fit_tokens_stats(self, texts):\n",
        "        for chunk in _chunkenize(texts, CHUNK_SIZE):\n",
        "            tokenized_text = self.tokenize(chunk)\n",
        "\n",
        "            for tokens in tokenized_text:\n",
        "                if len(tokens) > self.max_words:\n",
        "                    self.max_words = len(tokens)\n",
        "                try:\n",
        "                  max_chars_len = max(map(len, tokens))\n",
        "                  if max_chars_len > self.max_ngrams:\n",
        "                      self.max_ngrams = max_chars_len\n",
        "\n",
        "                  self.ngrams_counter.update(itertools.chain(*tokens))\n",
        "                except:\n",
        "                  pass\n",
        "\n",
        "    def vectorize(self, texts):\n",
        "        tokenized_texts = self.tokenize(texts)\n",
        "        vectors = list(map(self.convert_token_to_ids, tokenized_texts))\n",
        "        padded_texts = self.pad_tokenized_texts(vectors)\n",
        "        return np.array(padded_texts, dtype=np.int)\n",
        "\n",
        "    def tokenize(self, texts):\n",
        "        return list(map(self.tokenize_single, texts))\n",
        "\n",
        "    def build_ngram2id(self):\n",
        "        self.ngram2id = {'__PAD__': PAD_INDEX, '__UNK__': UNK_INDEX}\n",
        "        for ngram, cnt in self.ngrams_counter.most_common():\n",
        "            if cnt < MIN_NGRAM_FREQ: break\n",
        "            if ngram not in {TOKEN_PREFIX, TOKEN_SUFFIX}:\n",
        "                self.ngram2id[ngram] = len(self.ngram2id)\n",
        "\n",
        "    def pad_tokenized_texts(self, tokenized_texts):\n",
        "        padded = []\n",
        "        for tokens in tokenized_texts:\n",
        "            padded_tokens = list(map(self.pad_single_token, tokens))\n",
        "            padded.append(padded_tokens[:self.max_words] + [np.zeros(self.max_ngrams)]*(self.max_words - len(padded_tokens)))\n",
        "        return padded\n",
        "\n",
        "    def pad_single_token(self, token):\n",
        "        return token[:self.max_ngrams] + [0]*(self.max_ngrams - len(token))\n",
        "\n",
        "    def tokenize_single(self, text):\n",
        "        tokens = self.words_tokenizer(text)\n",
        "        tokens = list(map(self.chars_tokenizer, tokens))\n",
        "\n",
        "        return list(tokens)\n",
        "\n",
        "    def chars_tokenizer(self, token):\n",
        "        token = TOKEN_PREFIX + token + TOKEN_SUFFIX\n",
        "        ngrams = set()\n",
        "        for ngram_size in range(self.chars_ngram_range[0], self.chars_ngram_range[1]+1):\n",
        "            grams = zip(*[token[i:] for i in range(ngram_size)])\n",
        "            ngrams |= {\"\".join(g) for g in grams}\n",
        "\n",
        "        return ngrams\n",
        "\n",
        "    def convert_token_to_ids(self, token):\n",
        "        return list(map(self.convert_ngrams_to_ids, token))\n",
        "\n",
        "    def convert_ngrams_to_ids(self, ngrams):\n",
        "        if not self.ngram2id:\n",
        "            raise Exception('SeqToLangVectorizer not fitted')\n",
        "\n",
        "        ngram_ids = []\n",
        "        for gram in ngrams:\n",
        "            gram_id = self.ngram2id.get(gram)\n",
        "            if gram_id: ngram_ids.append(gram_id)\n",
        "        return ngram_ids\n",
        "\n",
        "\n",
        "def _default_tokenizer(text):\n",
        "    return TOKENIZER_REGEX.findall(text.lower().strip())\n",
        "\n",
        "\n",
        "def _chunkenize(l, n):\n",
        "    print(type(l), type(n))\n",
        "    for i in range(0, len(l), n):\n",
        "        yield l[i:i + n]"
      ],
      "execution_count": null,
      "outputs": []
    },
    {
      "cell_type": "code",
      "metadata": {
        "id": "rIYkbVZdo6Iv",
        "colab_type": "code",
        "colab": {}
      },
      "source": [
        "### BURADA TÜM DOSYA OKUNUP DATAFRAME OLUŞTURULUYOR. LENS'E GÖRE ELEME YAPIL-MI-YOR\n",
        "\n",
        "language_files = {\"ing\":\"English.txt\", \"spa\":\"Spanish.txt\", \"fra\":\"French.txt\", \n",
        "                  \"porto\":\"Portuguese.txt\", \"ita\":\"Italian.txt\", \"deu\":\"German.txt\"}\n",
        "\n",
        "sentences = {}\n",
        "for lang in language_files.keys():\n",
        "  text = open(language_files[lang], encoding='utf8')\n",
        "  sentences[lang] = text.readlines()\n",
        "  text.close()\n",
        "\n",
        "my_list = []\n",
        "for sentence_number in range(10000):\n",
        "  for label in sentences.keys():\n",
        "    sentence = sentences[label][sentence_number].replace('\"','').replace('\\n','')\n",
        "    #v = torch.tensor(vectorizer.vectorize([sentence])).long()\n",
        "    #lens = torch.sum(v.sum(2) > 0, dim=1)\n",
        "    if True:\n",
        "      dic_key = {\"Sentence\": sentence, \"Label\": label}\n",
        "      my_list.append(dic_key)\n",
        "\n",
        "my_data = pd.DataFrame(my_list)"
      ],
      "execution_count": null,
      "outputs": []
    },
    {
      "cell_type": "code",
      "metadata": {
        "id": "yVwtYnTbpbpn",
        "colab_type": "code",
        "colab": {}
      },
      "source": [
        "### YENI BIR VECTORIZER OLUŞTURULUP EĞİTİLİYOR. VECTORIZERI OLUŞTURURKEN GİRDİĞİN\n",
        "### CHARS_NGRAM_RANGE DEGERINE GORE DOSYA ADINI GUNCELLEMEYI UNUTMA.\n",
        "### OLUSTURULAN PICKLELARI SOLDAKI MENUDEN BILGISAYARINA INDIRMEYI UNUTMA\n",
        "### ZAMANLA KAYBOLABILIR\n",
        "\n",
        "vectorizer = SeqToLangVectorizer(chars_ngram_range=(2,4))\n",
        "vectorizer.fit(my_data['Sentence'].astype(str))\n",
        "with open('2-4vectorizer.pickle', 'wb') as f:\n",
        "    pickle.dump(vectorizer, f)"
      ],
      "execution_count": null,
      "outputs": []
    },
    {
      "cell_type": "code",
      "metadata": {
        "id": "glMmTy4ZKm79",
        "colab_type": "code",
        "colab": {}
      },
      "source": [
        "### VECTORIZER'I PICKLELAMAYI COMMENT LINE'A ALDIM, EĞER SON OLUŞTURDUĞUN VECTORIZERI DEĞİL DE\n",
        "### ESKILERDEN BIRINI KULLANMAK ISTERSEN VECTORIZER PATHINI GUNCELLE\n",
        "\n",
        "LANG_PROBA_THRESHOLD = 0.05\n",
        "DEFAULT_HIDDEN_SIZE = 32\n",
        "DEFAULT_EMBEDDING_DIM = 16\n",
        "label2id = json.load(open('default_label2id.json', 'r'))\n",
        "id2label = {0:'Eng', 1:'Spa', 2:'Fre', 3:\"Por\", 4:'Ita', 5:'Deu'}\n",
        "vectorizer = pickle.load(open('3-6vectorizer.pickle', 'rb'))\n",
        "device = torch.device(\"cuda\" if torch.cuda.is_available() else \"cpu\")\n",
        "\n",
        "class Language_Dataset(Dataset):\n",
        "  \n",
        "  def __init__(self, my_data):\n",
        "    self.my_data = my_data\n",
        "\n",
        "  def __len__(self):\n",
        "    return len(self.my_data)\n",
        "\n",
        "  def __getitem__(self, index):\n",
        "    sentence = my_data.loc[index,\"Sentence\"]\n",
        "    y = torch.tensor(label2id[my_data.loc[index,\"Label\"]])\n",
        "\n",
        "    return sentence, y\n",
        "\n",
        "class Model(nn.Module):\n",
        "\n",
        "  def __init__(self, num_of_ngrams, output_size, hidden_size, embedding_dim):\n",
        "    super().__init__()\n",
        "    self.chars_embedding = nn.Embedding(num_embeddings=num_of_ngrams, padding_idx=0, embedding_dim=embedding_dim)\n",
        "    self.rnn = nn.LSTM(input_size=embedding_dim, hidden_size=hidden_size, bidirectional=True, batch_first=True)\n",
        "    self.linear = nn.Linear(hidden_size*2, output_size)\n",
        "    self.device = torch.device(\"cuda\" if torch.cuda.is_available() else \"cpu\")\n",
        "\n",
        "  def forward(self, tokenized_texts):\n",
        "    batch_size = tokenized_texts.shape[0]\n",
        "    num_of_words = tokenized_texts.shape[1]\n",
        "    num_of_ngrams = tokenized_texts.shape[2]\n",
        "\n",
        "    lens = torch.sum(tokenized_texts.sum(2) > 0, dim=1)\n",
        "\n",
        "    x = tokenized_texts.view(batch_size * num_of_words, num_of_ngrams)\n",
        "    embedded = self.chars_embedding(x)\n",
        "    embedded = embedded.view(batch_size, num_of_words, num_of_ngrams, -1)\n",
        "    embedded_sum = embedded.sum(2) / lens.view(batch_size, 1, 1).float()\n",
        "\n",
        "    pack = pack_padded_sequence(embedded_sum, lens, batch_first=True, enforce_sorted=False)\n",
        "    rnn_outputs, last_hidden = self.rnn(pack)\n",
        "    unpacked, unpacked_len = pad_packed_sequence(rnn_outputs, batch_first=True)\n",
        "    unpacked = torch.mean(unpacked, 1)\n",
        "    output = self.linear(unpacked)\n",
        "\n",
        "    return output\n",
        "\n",
        "def train(epoch_count, batch_size, learning_rate, train_data, val_data, net=None):\n",
        "  train_loader = DataLoader(train_data, batch_size=batch_size, shuffle=True)\n",
        "  val_loader = DataLoader(val_data, batch_size=batch_size, shuffle=True)\n",
        "  if net==None:\n",
        "    net = Model(num_of_ngrams=len(vectorizer.ngram2id),\n",
        "                output_size=6,\n",
        "                hidden_size=DEFAULT_HIDDEN_SIZE,\n",
        "                embedding_dim=DEFAULT_EMBEDDING_DIM).to(device)\n",
        "  net.cuda()\n",
        "  optimizer = optim.Adam(net.parameters(), lr=learning_rate)\n",
        "  train_losses = []\n",
        "  train_accuracies = []\n",
        "  val_losses = []\n",
        "  val_accuracies = []\n",
        "  \n",
        "  for epoch_num in range(epoch_count):\n",
        "    \n",
        "    net.train()\n",
        "    correct_train = 0\n",
        "    total_train_loss = 0\n",
        "    for data, target in train_loader:\n",
        "      data = torch.tensor(vectorizer.vectorize(data)).long()\n",
        "      data, target = Variable(data).to(device), Variable(target).to(device)\n",
        "      optimizer.zero_grad()\n",
        "      output = F.log_softmax(net(data))\n",
        "      loss = F.nll_loss(output, target)\n",
        "      loss.backward()\n",
        "      optimizer.step()\n",
        "      _, predicted = torch.max(output.data, 1)\n",
        "      correct_train += (predicted == target).float().sum().item()\n",
        "      total_train_loss += loss.item() * len(data)\n",
        "\n",
        "    net.eval()\n",
        "    correct_val = 0\n",
        "    total_val_loss = 0\n",
        "    for data, target in val_loader:\n",
        "      data = torch.tensor(vectorizer.vectorize(data)).long()\n",
        "      data, target = Variable(data).to(device), Variable(target).to(device)\n",
        "      output = F.log_softmax(net(data))\n",
        "      loss = F.nll_loss(output, target)\n",
        "      _, predicted = torch.max(output.data, 1)\n",
        "      correct_val += (predicted == target).float().sum().item()\n",
        "      total_val_loss += loss.item() * len(data)\n",
        "\n",
        "    train_losses.append(total_train_loss/len(train_loader.dataset))\n",
        "    train_accuracies.append(correct_train/len(train_loader.dataset))\n",
        "    val_losses.append(total_val_loss/len(val_loader.dataset))\n",
        "    val_accuracies.append(correct_val/len(val_loader.dataset))\n",
        "\n",
        "    pickle_name = \"drive/My Drive/NLP-Project/net\" + str(epoch_num) + \".pickle\"\n",
        "    with open(pickle_name, 'wb') as f:\n",
        "      pickle.dump(net, f)\n",
        "    \n",
        "    torch.cuda.empty_cache()\n",
        "  \n",
        "  return net, train_losses, train_accuracies, val_losses, val_accuracies\n",
        "\n",
        "def test(batch_size, test_data, net):\n",
        "  test_loader = DataLoader(test_data, batch_size=batch_size, shuffle=True)\n",
        "  net.cuda()\n",
        "  net.eval()\n",
        "  correct = 0\n",
        "  total_loss = 0\n",
        "  wrong_labeled = []\n",
        "  reals = []\n",
        "  preds = []\n",
        "  for data_text, target in test_loader:\n",
        "    data = torch.tensor(vectorizer.vectorize(data_text)).long()\n",
        "    data, target = Variable(data).to(device), Variable(target).to(device)\n",
        "    output = F.log_softmax(net(data))\n",
        "    loss = F.nll_loss(output, target)\n",
        "    _, predicted = torch.max(output.data, 1)\n",
        "    reals += list(target.float().cpu())\n",
        "    preds += list(predicted.float().cpu())\n",
        "    correct += (predicted == target).float().sum().item()\n",
        "    label_correction = (predicted==target)\n",
        "    for i, isCorrect in enumerate(label_correction):\n",
        "      if not isCorrect:\n",
        "        info = [data_text[i], int(predicted[i].cpu()), int(target[i].cpu())]\n",
        "        wrong_labeled.append(info)\n",
        "    total_loss += loss.item() * len(data)\n",
        "\n",
        "  return reals, preds, total_loss/len(test_loader.dataset), correct/len(test_loader.dataset), wrong_labeled"
      ],
      "execution_count": null,
      "outputs": []
    },
    {
      "cell_type": "code",
      "metadata": {
        "id": "nqOyriS25jLc",
        "colab_type": "code",
        "colab": {}
      },
      "source": [
        "### VECTORIZER'A GORE LENS ALIP ONA GORE SUBSET OLUŞTURUYOR\n",
        "\n",
        "language_files = {\"ing\":\"English.txt\", \"spa\":\"Spanish.txt\", \"fra\":\"French.txt\", \n",
        "                  \"porto\":\"Portuguese.txt\", \"ita\":\"Italian.txt\", \"deu\":\"German.txt\"}\n",
        "\n",
        "sentences = {}\n",
        "for lang in language_files.keys():\n",
        "  text = open(language_files[lang], encoding='utf8')\n",
        "  sentences[lang] = text.readlines()\n",
        "  text.close()\n",
        "\n",
        "my_list = []\n",
        "for sentence_number in range(10000):\n",
        "  for label in sentences.keys():\n",
        "    sentence = sentences[label][sentence_number].replace('\"','').replace('\\n','')\n",
        "    v = torch.tensor(vectorizer.vectorize([sentence])).long()\n",
        "    lens = torch.sum(v.sum(2) > 0, dim=1)\n",
        "    if lens>0:\n",
        "      dic_key = {\"Sentence\": sentence, \"Label\": label}\n",
        "      my_list.append(dic_key)\n",
        "\n",
        "my_data = pd.DataFrame(my_list)"
      ],
      "execution_count": null,
      "outputs": []
    },
    {
      "cell_type": "code",
      "metadata": {
        "id": "PNm7XRE_-Oem",
        "colab_type": "code",
        "colab": {}
      },
      "source": [
        "### DATASETLERI OLUSTUR\n",
        "\n",
        "my_train, my_test = train_test_split(my_data, test_size=0.2, random_state=42)\n",
        "my_train, my_validation = train_test_split(my_train, test_size=0.125, random_state=42)\n",
        "train_dataset = Language_Dataset(my_train)\n",
        "val_dataset = Language_Dataset(my_validation)\n",
        "test_dataset = Language_Dataset(my_test)"
      ],
      "execution_count": null,
      "outputs": []
    },
    {
      "cell_type": "code",
      "metadata": {
        "id": "Nlp4gMkeUJQJ",
        "colab_type": "code",
        "colab": {}
      },
      "source": [
        "### MODELI RUNLA\n",
        "### RETURNLENEN DEĞERLER\n",
        "##### MODEL: OLUŞTURDUĞUN MODEL :d\n",
        "##### tr_l: HER EPOCH ICIN TRAIN LOSSLARINI ICEREN LISTE\n",
        "##### tr_l: HER EPOCH ICIN TRAIN ACCURACYLERINI ICEREN LISTE\n",
        "##### va_l: HER EPOCH ICIN VALIDATION LOSSLARINI ICEREN LISTE\n",
        "##### va_a: HER EPOCH ICIN VALIDATION ACCURACYLERINI ICEREN LISTE\n",
        "\n",
        "### EGER BIR MODELI BIR MIKTAR EGITTIKTEN SONRA BIRAZ DAHA EGITMEK ISTERSEN,\n",
        "### COMMENT LINESIZ OLANI COMMENT LINE'A AL, DİĞERİNİ ÇIKART\n",
        "\n",
        "net, tr_l, tr_a, va_l, va_a = train(epoch_count=12, batch_size=32, learning_rate=0.01, train_data=train_dataset, val_data=val_dataset)\n",
        "#net, tr_l, tr_a, va_l, va_a = train(epoch_count=2, batch_size=8, learning_rate=0.01, train_dataset, val_dataset, net=net)"
      ],
      "execution_count": null,
      "outputs": []
    },
    {
      "cell_type": "code",
      "metadata": {
        "id": "O3dBFTN2w0zj",
        "colab_type": "code",
        "colab": {
          "base_uri": "https://localhost:8080/",
          "height": 320
        },
        "outputId": "8063f616-2fe8-4796-843f-f2398c1d43a5"
      },
      "source": [
        "### YUKARIDAKI FONKSIYONDAN DONEN DEGERLERE GORE GRAFIK CIZDIR\n",
        "### EN SON SATIRDAKI ISIMLE KAYDET\n",
        "### OLUSTURULAN FOTOĞRAFLARI SOLDAKI MENUDEN KENDI BILGISAYARINA INDIRMEYI\n",
        "### UNUTMA ZAMANLA KAYBOLABILIR\n",
        "\n",
        "plt.figure(figsize=(14,5))\n",
        "plt.subplot(1,2,1)\n",
        "plt.plot(tr_l, label='Train Loss')\n",
        "plt.plot(va_l, label='Validation Loss')\n",
        "plt.legend()\n",
        "plt.subplot(1,2,2)\n",
        "plt.plot(tr_a, label='Train Accuracy')\n",
        "plt.plot(va_a, label='Validation Accuracy')\n",
        "plt.legend()\n",
        "plt.savefig(\"drive/My Drive/NLP-Project/32-01.jpg\")"
      ],
      "execution_count": null,
      "outputs": [
        {
          "output_type": "display_data",
          "data": {
            "image/png": "[encoded data removed]",
            "text/plain": [
              "<Figure size 1008x360 with 2 Axes>"
            ]
          },
          "metadata": {
            "tags": [],
            "needs_background": "light"
          }
        }
      ]
    },
    {
      "cell_type": "code",
      "metadata": {
        "id": "07zEdhEqdSnt",
        "colab_type": "code",
        "colab": {}
      },
      "source": [
        "reals, preds, te_l, te_a, wrong_labeled = test(32, test_dataset, net)"
      ],
      "execution_count": null,
      "outputs": []
    },
    {
      "cell_type": "code",
      "metadata": {
        "id": "9mBvE9c2d4Ag",
        "colab_type": "code",
        "colab": {
          "base_uri": "https://localhost:8080/",
          "height": 265
        },
        "outputId": "011e794a-4225-4b80-ea5c-7fde438ffc70"
      },
      "source": [
        "cm = confusion_matrix(reals, preds)\n",
        "matrix_labels = ['Eng', 'Spa', 'Fre', 'Por', 'Ita', 'Deu']\n",
        "myFig = sn.heatmap(cm, annot=True, fmt='d', xticklabels=matrix_labels, yticklabels=matrix_labels).get_figure()\n",
        "plt.savefig(\"drive/My Drive/NLP-Project/32-01confusion_matrix.jpg\")\n",
        "\n",
        "out = open(\"drive/My Drive/NLP-Project/32-01wrong.txt\", \"w+\")\n",
        "for sentence in wrong_labeled:\n",
        "  out_text = \"Sentence: \" + sentence[0] + \"\\nPrediction: \" + id2label[sentence[1]] + \"\\nTrue Label: \" + id2label[sentence[2]] + \"\\n\\n\\n\"\n",
        "  out.write(out_text)\n",
        "out.close()"
      ],
      "execution_count": null,
      "outputs": [
        {
          "output_type": "display_data",
          "data": {
            "image/png": "[encoded data removed]",
            "text/plain": [
              "<Figure size 432x288 with 2 Axes>"
            ]
          },
          "metadata": {
            "tags": [],
            "needs_background": "light"
          }
        }
      ]
    }
  ]
}